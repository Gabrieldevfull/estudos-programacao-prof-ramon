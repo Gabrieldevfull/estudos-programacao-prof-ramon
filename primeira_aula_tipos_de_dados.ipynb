{
  "nbformat": 4,
  "nbformat_minor": 0,
  "metadata": {
    "colab": {
      "provenance": [],
      "authorship_tag": "ABX9TyOyFvX6/k0iIZ5vPImsvefX",
      "include_colab_link": true
    },
    "kernelspec": {
      "name": "python3",
      "display_name": "Python 3"
    },
    "language_info": {
      "name": "python"
    }
  },
  "cells": [
    {
      "cell_type": "markdown",
      "metadata": {
        "id": "view-in-github",
        "colab_type": "text"
      },
      "source": [
        "<a href=\"https://colab.research.google.com/github/Gabrieldevfull/estudos-programacao-prof-ramon/blob/main/primeira_aula_tipos_de_dados.ipynb\" target=\"_parent\"><img src=\"https://colab.research.google.com/assets/colab-badge.svg\" alt=\"Open In Colab\"/></a>"
      ]
    },
    {
      "cell_type": "code",
      "execution_count": 1,
      "metadata": {
        "colab": {
          "base_uri": "https://localhost:8080/"
        },
        "id": "C9N646baBrSO",
        "outputId": "145886ce-3ff9-46e6-f874-7777e630c307"
      },
      "outputs": [
        {
          "output_type": "stream",
          "name": "stdout",
          "text": [
            "Meu primeiro notbook\n"
          ]
        }
      ],
      "source": [
        "print('Meu primeiro notbook')"
      ]
    },
    {
      "cell_type": "code",
      "source": [
        "nome= 'Gabriel Nicolau'\n",
        "print(nome)"
      ],
      "metadata": {
        "colab": {
          "base_uri": "https://localhost:8080/"
        },
        "id": "YtHKbfksCWam",
        "outputId": "78f56069-0fa3-4d95-a7c1-ab3ee67fbefc"
      },
      "execution_count": 2,
      "outputs": [
        {
          "output_type": "stream",
          "name": "stdout",
          "text": [
            "Gabriel Nicolau\n"
          ]
        }
      ]
    },
    {
      "cell_type": "code",
      "source": [
        "#Descobrir tipo de variável\n",
        "type(nome)"
      ],
      "metadata": {
        "colab": {
          "base_uri": "https://localhost:8080/"
        },
        "id": "4V2WBD5oClo9",
        "outputId": "8e1d8233-0e0a-4dbc-8ec1-0b25f40528c0"
      },
      "execution_count": 3,
      "outputs": [
        {
          "output_type": "execute_result",
          "data": {
            "text/plain": [
              "str"
            ]
          },
          "metadata": {},
          "execution_count": 3
        }
      ]
    },
    {
      "cell_type": "code",
      "source": [
        "a = 100\n",
        "b = 25.6\n",
        "c = a > b\n",
        "d = 'Chimpanze'"
      ],
      "metadata": {
        "id": "mG55GqGCESCC"
      },
      "execution_count": 9,
      "outputs": []
    },
    {
      "cell_type": "code",
      "source": [
        "type (a)"
      ],
      "metadata": {
        "colab": {
          "base_uri": "https://localhost:8080/"
        },
        "id": "zDcKEpvyEvLb",
        "outputId": "70a8260e-8bda-41b9-f099-5b04d7baeb4c"
      },
      "execution_count": 21,
      "outputs": [
        {
          "output_type": "execute_result",
          "data": {
            "text/plain": [
              "int"
            ]
          },
          "metadata": {},
          "execution_count": 21
        }
      ]
    },
    {
      "cell_type": "code",
      "source": [
        "type (b)"
      ],
      "metadata": {
        "colab": {
          "base_uri": "https://localhost:8080/"
        },
        "id": "RYFqhnAOFyet",
        "outputId": "a350d13d-b953-4d35-dd4b-58ba8b9322b3"
      },
      "execution_count": 22,
      "outputs": [
        {
          "output_type": "execute_result",
          "data": {
            "text/plain": [
              "float"
            ]
          },
          "metadata": {},
          "execution_count": 22
        }
      ]
    },
    {
      "cell_type": "code",
      "source": [
        "type (c)"
      ],
      "metadata": {
        "colab": {
          "base_uri": "https://localhost:8080/"
        },
        "id": "x6u8VMmrF1Fc",
        "outputId": "90d8790b-a9a3-432d-a4b0-65e79511f3e9"
      },
      "execution_count": 23,
      "outputs": [
        {
          "output_type": "execute_result",
          "data": {
            "text/plain": [
              "bool"
            ]
          },
          "metadata": {},
          "execution_count": 23
        }
      ]
    },
    {
      "cell_type": "code",
      "source": [
        "type (d)"
      ],
      "metadata": {
        "colab": {
          "base_uri": "https://localhost:8080/"
        },
        "id": "VHJcjGbLF4A1",
        "outputId": "9751fdf8-1825-4b41-8e9f-c9ea83ecabc6"
      },
      "execution_count": 25,
      "outputs": [
        {
          "output_type": "execute_result",
          "data": {
            "text/plain": [
              "str"
            ]
          },
          "metadata": {},
          "execution_count": 25
        }
      ]
    },
    {
      "cell_type": "code",
      "source": [
        "print(c)"
      ],
      "metadata": {
        "colab": {
          "base_uri": "https://localhost:8080/"
        },
        "id": "7VoN-YSgKu3d",
        "outputId": "24d0e234-ded1-4160-e7cd-5d8e0c84755c"
      },
      "execution_count": 26,
      "outputs": [
        {
          "output_type": "stream",
          "name": "stdout",
          "text": [
            "True\n"
          ]
        }
      ]
    },
    {
      "cell_type": "code",
      "source": [
        "a = 100 < 200\n",
        "b = 85 == 6\n",
        "c = 'Gabriel' == \"Gabriel\"\n",
        "d = 25 == '25'\n",
        "e = 30 == (6*5)\n",
        "f = 'Corinthians' != 'Flamengo'"
      ],
      "metadata": {
        "id": "PKl2n60GLmHP"
      },
      "execution_count": 27,
      "outputs": []
    },
    {
      "cell_type": "code",
      "source": [
        "if (notaGabriel) >= (notaAprovacao)\n",
        "  print('Aprovado')\n",
        "else:\n",
        "  print('Reprovado')"
      ],
      "metadata": {
        "id": "sdWKQIrtNl7S"
      },
      "execution_count": null,
      "outputs": []
    },
    {
      "cell_type": "code",
      "source": [
        "print(a)\n",
        "print(b)\n",
        "print(c)\n",
        "print(d)\n",
        "print(e)\n",
        "print(f)"
      ],
      "metadata": {
        "colab": {
          "base_uri": "https://localhost:8080/"
        },
        "id": "uTpVciGBMNKo",
        "outputId": "cfd01860-12e5-4da5-f68f-babee8682da7"
      },
      "execution_count": 28,
      "outputs": [
        {
          "output_type": "stream",
          "name": "stdout",
          "text": [
            "True\n",
            "False\n",
            "True\n",
            "False\n",
            "True\n",
            "True\n"
          ]
        }
      ]
    },
    {
      "cell_type": "code",
      "source": [
        "notaGabriel = 8.0\n",
        "print(notaAprovacao < notaGabriel)"
      ],
      "metadata": {
        "colab": {
          "base_uri": "https://localhost:8080/"
        },
        "id": "zsUL_VvdMwu4",
        "outputId": "d36b290f-964a-46fe-aa0e-b05563dd4c40"
      },
      "execution_count": 59,
      "outputs": [
        {
          "output_type": "stream",
          "name": "stdout",
          "text": [
            "True\n"
          ]
        }
      ]
    },
    {
      "cell_type": "markdown",
      "source": [],
      "metadata": {
        "id": "iTDbL4yKUsNQ"
      }
    },
    {
      "cell_type": "code",
      "source": [
        "if (notaGabriel >= 7.0):\n",
        "  print('Aprovado')\n",
        "elif (notaGabriel >= 4 and notaAprovacao <7):\n",
        "  print('Recuperacao')\n",
        "else:\n",
        "  print('Reprovado')"
      ],
      "metadata": {
        "colab": {
          "base_uri": "https://localhost:8080/"
        },
        "id": "xFkC5azkPsZT",
        "outputId": "ca8f59e1-1817-4986-fdd0-2fb2dad26f14"
      },
      "execution_count": 62,
      "outputs": [
        {
          "output_type": "stream",
          "name": "stdout",
          "text": [
            "Aprovado\n"
          ]
        }
      ]
    },
    {
      "cell_type": "code",
      "source": [
        "if(notaGabriel < 4):\n",
        "  print('Reprovado')\n",
        "elif(notaGabriel < 7):\n",
        "  print('Recuperacao')\n",
        "else:\n",
        "  print('Aprovado')"
      ],
      "metadata": {
        "colab": {
          "base_uri": "https://localhost:8080/"
        },
        "id": "hydsCVfIS4lN",
        "outputId": "bd6d46f9-f8c1-4046-fea5-3064812f03e1"
      },
      "execution_count": 61,
      "outputs": [
        {
          "output_type": "stream",
          "name": "stdout",
          "text": [
            "Aprovado\n"
          ]
        }
      ]
    },
    {
      "cell_type": "markdown",
      "source": [
        "Imput de dados no Pyton"
      ],
      "metadata": {
        "id": "ic_UyAiEUtc3"
      }
    },
    {
      "cell_type": "code",
      "source": [
        "nota1 = float(input('Digite a nota, pae!'))\n",
        "nota2 = float(input('Digite a segunda nota!'))\n",
        "nota3 = float(input('Digite a terceira nota!'))\n",
        "media = (nota1 + nota2 + nota3) / 3\n",
        "print(media)"
      ],
      "metadata": {
        "colab": {
          "base_uri": "https://localhost:8080/"
        },
        "id": "pKK-1xyGUx5f",
        "outputId": "ae789150-21ef-4c08-dd23-57de5a2e5113"
      },
      "execution_count": 71,
      "outputs": [
        {
          "output_type": "stream",
          "name": "stdout",
          "text": [
            "Digite a nota, pae!10\n",
            "Digite a segunda nota!8\n",
            "Digite a terceira nota!3\n",
            "7.0\n"
          ]
        }
      ]
    },
    {
      "cell_type": "code",
      "source": [],
      "metadata": {
        "id": "F7b5IutzVcrY"
      },
      "execution_count": null,
      "outputs": []
    }
  ]
}