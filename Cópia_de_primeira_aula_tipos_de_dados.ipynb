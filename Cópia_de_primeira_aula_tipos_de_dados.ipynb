{
  "nbformat": 4,
  "nbformat_minor": 0,
  "metadata": {
    "colab": {
      "provenance": [],
      "authorship_tag": "ABX9TyNYtjAP9aDYiBWOhKy89s0u",
      "include_colab_link": true
    },
    "kernelspec": {
      "name": "python3",
      "display_name": "Python 3"
    },
    "language_info": {
      "name": "python"
    }
  },
  "cells": [
    {
      "cell_type": "markdown",
      "metadata": {
        "id": "view-in-github",
        "colab_type": "text"
      },
      "source": [
        "<a href=\"https://colab.research.google.com/github/Gabrieldevfull/estudos-programacao-prof-ramon/blob/main/C%C3%B3pia_de_primeira_aula_tipos_de_dados.ipynb\" target=\"_parent\"><img src=\"https://colab.research.google.com/assets/colab-badge.svg\" alt=\"Open In Colab\"/></a>"
      ]
    },
    {
      "cell_type": "code",
      "execution_count": null,
      "metadata": {
        "colab": {
          "base_uri": "https://localhost:8080/"
        },
        "id": "C9N646baBrSO",
        "outputId": "145886ce-3ff9-46e6-f874-7777e630c307"
      },
      "outputs": [
        {
          "output_type": "stream",
          "name": "stdout",
          "text": [
            "Meu primeiro notbook\n"
          ]
        }
      ],
      "source": [
        "print('Meu primeiro notbook')"
      ]
    },
    {
      "cell_type": "code",
      "source": [
        "nome= 'Gabriel Nicolau'\n",
        "print(nome)"
      ],
      "metadata": {
        "colab": {
          "base_uri": "https://localhost:8080/"
        },
        "id": "YtHKbfksCWam",
        "outputId": "78f56069-0fa3-4d95-a7c1-ab3ee67fbefc"
      },
      "execution_count": null,
      "outputs": [
        {
          "output_type": "stream",
          "name": "stdout",
          "text": [
            "Gabriel Nicolau\n"
          ]
        }
      ]
    },
    {
      "cell_type": "code",
      "source": [
        "#Descobrir tipo de variável\n",
        "type(nome)"
      ],
      "metadata": {
        "colab": {
          "base_uri": "https://localhost:8080/"
        },
        "id": "4V2WBD5oClo9",
        "outputId": "8e1d8233-0e0a-4dbc-8ec1-0b25f40528c0"
      },
      "execution_count": null,
      "outputs": [
        {
          "output_type": "execute_result",
          "data": {
            "text/plain": [
              "str"
            ]
          },
          "metadata": {},
          "execution_count": 3
        }
      ]
    },
    {
      "cell_type": "code",
      "source": [
        "a = 100\n",
        "b = 25.6\n",
        "c = a > b\n",
        "d = 'Chimpanze'"
      ],
      "metadata": {
        "id": "mG55GqGCESCC"
      },
      "execution_count": null,
      "outputs": []
    },
    {
      "cell_type": "code",
      "source": [
        "type (a)"
      ],
      "metadata": {
        "colab": {
          "base_uri": "https://localhost:8080/"
        },
        "id": "zDcKEpvyEvLb",
        "outputId": "70a8260e-8bda-41b9-f099-5b04d7baeb4c"
      },
      "execution_count": null,
      "outputs": [
        {
          "output_type": "execute_result",
          "data": {
            "text/plain": [
              "int"
            ]
          },
          "metadata": {},
          "execution_count": 21
        }
      ]
    },
    {
      "cell_type": "code",
      "source": [
        "type (b)"
      ],
      "metadata": {
        "colab": {
          "base_uri": "https://localhost:8080/"
        },
        "id": "RYFqhnAOFyet",
        "outputId": "a350d13d-b953-4d35-dd4b-58ba8b9322b3"
      },
      "execution_count": null,
      "outputs": [
        {
          "output_type": "execute_result",
          "data": {
            "text/plain": [
              "float"
            ]
          },
          "metadata": {},
          "execution_count": 22
        }
      ]
    },
    {
      "cell_type": "code",
      "source": [
        "type (c)"
      ],
      "metadata": {
        "colab": {
          "base_uri": "https://localhost:8080/"
        },
        "id": "x6u8VMmrF1Fc",
        "outputId": "90d8790b-a9a3-432d-a4b0-65e79511f3e9"
      },
      "execution_count": null,
      "outputs": [
        {
          "output_type": "execute_result",
          "data": {
            "text/plain": [
              "bool"
            ]
          },
          "metadata": {},
          "execution_count": 23
        }
      ]
    },
    {
      "cell_type": "code",
      "source": [
        "type (d)"
      ],
      "metadata": {
        "colab": {
          "base_uri": "https://localhost:8080/"
        },
        "id": "VHJcjGbLF4A1",
        "outputId": "9751fdf8-1825-4b41-8e9f-c9ea83ecabc6"
      },
      "execution_count": null,
      "outputs": [
        {
          "output_type": "execute_result",
          "data": {
            "text/plain": [
              "str"
            ]
          },
          "metadata": {},
          "execution_count": 25
        }
      ]
    },
    {
      "cell_type": "code",
      "source": [
        "print(c)"
      ],
      "metadata": {
        "colab": {
          "base_uri": "https://localhost:8080/"
        },
        "id": "7VoN-YSgKu3d",
        "outputId": "24d0e234-ded1-4160-e7cd-5d8e0c84755c"
      },
      "execution_count": null,
      "outputs": [
        {
          "output_type": "stream",
          "name": "stdout",
          "text": [
            "True\n"
          ]
        }
      ]
    },
    {
      "cell_type": "code",
      "source": [
        "a = 100 < 200\n",
        "b = 85 == 6\n",
        "c = 'Gabriel' == \"Gabriel\"\n",
        "d = 25 == '25'\n",
        "e = 30 == (6*5)\n",
        "f = 'Corinthians' != 'Flamengo'"
      ],
      "metadata": {
        "id": "PKl2n60GLmHP"
      },
      "execution_count": null,
      "outputs": []
    },
    {
      "cell_type": "code",
      "source": [
        "if (notaGabriel) >= (notaAprovacao)\n",
        "  print('Aprovado')\n",
        "else:\n",
        "  print('Reprovado')"
      ],
      "metadata": {
        "id": "sdWKQIrtNl7S"
      },
      "execution_count": null,
      "outputs": []
    },
    {
      "cell_type": "code",
      "source": [
        "print(a)\n",
        "print(b)\n",
        "print(c)\n",
        "print(d)\n",
        "print(e)\n",
        "print(f)"
      ],
      "metadata": {
        "colab": {
          "base_uri": "https://localhost:8080/"
        },
        "id": "uTpVciGBMNKo",
        "outputId": "cfd01860-12e5-4da5-f68f-babee8682da7"
      },
      "execution_count": null,
      "outputs": [
        {
          "output_type": "stream",
          "name": "stdout",
          "text": [
            "True\n",
            "False\n",
            "True\n",
            "False\n",
            "True\n",
            "True\n"
          ]
        }
      ]
    },
    {
      "cell_type": "code",
      "source": [
        "notaGabriel = 8.0\n",
        "print(notaAprovacao < notaGabriel)"
      ],
      "metadata": {
        "colab": {
          "base_uri": "https://localhost:8080/"
        },
        "id": "zsUL_VvdMwu4",
        "outputId": "d36b290f-964a-46fe-aa0e-b05563dd4c40"
      },
      "execution_count": null,
      "outputs": [
        {
          "output_type": "stream",
          "name": "stdout",
          "text": [
            "True\n"
          ]
        }
      ]
    },
    {
      "cell_type": "markdown",
      "source": [],
      "metadata": {
        "id": "iTDbL4yKUsNQ"
      }
    },
    {
      "cell_type": "code",
      "source": [
        "if (notaGabriel >= 7.0):\n",
        "  print('Aprovado')\n",
        "elif (notaGabriel >= 4 and notaAprovacao <7):\n",
        "  print('Recuperacao')\n",
        "else:\n",
        "  print('Reprovado')"
      ],
      "metadata": {
        "colab": {
          "base_uri": "https://localhost:8080/"
        },
        "id": "xFkC5azkPsZT",
        "outputId": "ca8f59e1-1817-4986-fdd0-2fb2dad26f14"
      },
      "execution_count": null,
      "outputs": [
        {
          "output_type": "stream",
          "name": "stdout",
          "text": [
            "Aprovado\n"
          ]
        }
      ]
    },
    {
      "cell_type": "code",
      "source": [
        "if(notaGabriel < 4):\n",
        "  print('Reprovado')\n",
        "elif(notaGabriel < 7):\n",
        "  print('Recuperacao')\n",
        "else:\n",
        "  print('Aprovado')"
      ],
      "metadata": {
        "colab": {
          "base_uri": "https://localhost:8080/"
        },
        "id": "hydsCVfIS4lN",
        "outputId": "bd6d46f9-f8c1-4046-fea5-3064812f03e1"
      },
      "execution_count": null,
      "outputs": [
        {
          "output_type": "stream",
          "name": "stdout",
          "text": [
            "Aprovado\n"
          ]
        }
      ]
    },
    {
      "cell_type": "markdown",
      "source": [
        "Imput de dados no Pyton"
      ],
      "metadata": {
        "id": "ic_UyAiEUtc3"
      }
    },
    {
      "cell_type": "code",
      "source": [
        "nota1 = float(input('Digite a nota, pae!'))\n",
        "nota2 = float(input('Digite a segunda nota!'))\n",
        "nota3 = float(input('Digite a terceira nota!'))\n",
        "media = (nota1 + nota2 + nota3) / 3\n",
        "print(media)"
      ],
      "metadata": {
        "colab": {
          "base_uri": "https://localhost:8080/"
        },
        "id": "pKK-1xyGUx5f",
        "outputId": "ae789150-21ef-4c08-dd23-57de5a2e5113"
      },
      "execution_count": null,
      "outputs": [
        {
          "output_type": "stream",
          "name": "stdout",
          "text": [
            "Digite a nota, pae!10\n",
            "Digite a segunda nota!8\n",
            "Digite a terceira nota!3\n",
            "7.0\n"
          ]
        }
      ]
    },
    {
      "cell_type": "code",
      "source": [],
      "metadata": {
        "id": "F7b5IutzVcrY"
      },
      "execution_count": null,
      "outputs": []
    },
    {
      "cell_type": "markdown",
      "source": [
        "# Listas"
      ],
      "metadata": {
        "id": "C6IfPVrWyScY"
      }
    },
    {
      "cell_type": "code",
      "source": [
        "#linguagens fortemente tipadas\n",
        "#linguagens de tipagem dinâmica"
      ],
      "metadata": {
        "id": "zchT8MWn6K5z"
      },
      "execution_count": null,
      "outputs": []
    },
    {
      "cell_type": "code",
      "source": [
        "#Listas são estruturas de dados formadas por elementos de um mesmo tipo\n",
        "numeros = [25, 4, 3, 6]\n",
        "numeros"
      ],
      "metadata": {
        "id": "TypIylFnoAkl"
      },
      "execution_count": null,
      "outputs": []
    },
    {
      "cell_type": "code",
      "source": [
        "#tamanho de uma lista\n",
        "len(numeros)"
      ],
      "metadata": {
        "id": "YIN0E22joAuK"
      },
      "execution_count": null,
      "outputs": []
    },
    {
      "cell_type": "code",
      "source": [
        "#Indices [25, 4, 3, 6]\n",
        "print(numeros[0])\n",
        "print(numeros[1])\n",
        "print(numeros[2])\n",
        "print(numeros[3])"
      ],
      "metadata": {
        "id": "AwqkOAt5CRil"
      },
      "execution_count": null,
      "outputs": []
    },
    {
      "cell_type": "code",
      "source": [
        "#listas de outros tipos\n",
        "alunos = ['Mariana', 'Luiz', 'Higor', 'Enzo', 'Valentina']\n",
        "alunos"
      ],
      "metadata": {
        "id": "g7r_7nZZpMA_",
        "outputId": "8d611c5b-0a3f-4bd0-ba61-5814698f7d87",
        "colab": {
          "base_uri": "https://localhost:8080/"
        }
      },
      "execution_count": null,
      "outputs": [
        {
          "output_type": "execute_result",
          "data": {
            "text/plain": [
              "['Mariana', 'Luiz', 'Higor', 'Enzo', 'Valentina']"
            ]
          },
          "metadata": {},
          "execution_count": 20
        }
      ]
    },
    {
      "cell_type": "code",
      "source": [
        "#alterar o valores de ítens de lista\n",
        "alunos[3] = 'Ivan'"
      ],
      "metadata": {
        "id": "ADe8qqc6nnSv"
      },
      "execution_count": null,
      "outputs": []
    },
    {
      "cell_type": "code",
      "source": [
        "#inserir valores na lista .append()\n",
        "alunos.append('Aderbal')\n",
        "alunos"
      ],
      "metadata": {
        "id": "bDjrZAe5n7hn"
      },
      "execution_count": null,
      "outputs": []
    },
    {
      "cell_type": "code",
      "source": [],
      "metadata": {
        "id": "qr9viH8FB_wl"
      },
      "execution_count": null,
      "outputs": []
    },
    {
      "cell_type": "code",
      "source": [
        "alunos.append(input('Digite o nome: '))"
      ],
      "metadata": {
        "id": "8okPJZquF6fR"
      },
      "execution_count": null,
      "outputs": []
    },
    {
      "cell_type": "code",
      "source": [
        "alunos"
      ],
      "metadata": {
        "id": "bidLoKy4GKE1"
      },
      "execution_count": null,
      "outputs": []
    },
    {
      "cell_type": "code",
      "source": [
        "#Descobrir se há um valor determinado na lista, exibir sua posição na lista\n",
        "if 'Mariana' in alunos:\n",
        "  print('Tem SIIM')\n",
        "else:\n",
        "  print('Tem Não')"
      ],
      "metadata": {
        "id": "nJDduZtfoKUu",
        "outputId": "40d5ff42-1114-4307-bea7-3377b6cce2a4",
        "colab": {
          "base_uri": "https://localhost:8080/"
        }
      },
      "execution_count": null,
      "outputs": [
        {
          "output_type": "stream",
          "name": "stdout",
          "text": [
            "Tem SIIM\n"
          ]
        }
      ]
    },
    {
      "cell_type": "code",
      "source": [
        "nome = input('Digite o nome: ')\n",
        "if nome in alunos:\n",
        "  print('Tem ', nome)\n",
        "else:\n",
        "  print('Não tem ', nome)"
      ],
      "metadata": {
        "id": "9NWVntkUPv0C"
      },
      "execution_count": null,
      "outputs": []
    },
    {
      "cell_type": "code",
      "source": [
        "#deletar um item específico da lista de compras\n",
        "del alunos[0]"
      ],
      "metadata": {
        "id": "kX_uAk5Jop_Y"
      },
      "execution_count": null,
      "outputs": []
    },
    {
      "cell_type": "markdown",
      "source": [
        "Exercícios. \n",
        "1. Crie uma lista contendo 5 atores ou atrizes\n",
        "2. Faça uma busca nessa lista, e verifique se há um determinado nome na lista. Notifique se há ou não o nome na lista\n",
        "3. Modifique o código criado no item anterior, para que, além de verificar se há o nome na lista, deletar o registro do nome digitado."
      ],
      "metadata": {
        "id": "XNj0dT0SpCXb"
      }
    },
    {
      "cell_type": "code",
      "source": [],
      "metadata": {
        "id": "o-6thHKGplKu"
      },
      "execution_count": null,
      "outputs": []
    },
    {
      "cell_type": "markdown",
      "source": [
        "#Laço for"
      ],
      "metadata": {
        "id": "1qyAIuVKxf5J"
      }
    },
    {
      "cell_type": "code",
      "source": [],
      "metadata": {
        "id": "9zF4Y44gS5_U"
      },
      "execution_count": null,
      "outputs": []
    },
    {
      "cell_type": "code",
      "source": [
        "#Criar uma lista com números de 1 a 15\n",
        "numeros = []\n",
        "for num in range(15):\n",
        "  numeros.append(num)"
      ],
      "metadata": {
        "id": "T0Mu0NK7vQ_R"
      },
      "execution_count": null,
      "outputs": []
    },
    {
      "cell_type": "code",
      "source": [
        "#(Parentesis)Descobrir se um número é par\n",
        "a = 8\n",
        "if a%2 == 0:\n",
        "  print('É par')\n",
        "else:\n",
        "  print('É impar')"
      ],
      "metadata": {
        "id": "7MKrVTLgWhA7"
      },
      "execution_count": null,
      "outputs": []
    },
    {
      "cell_type": "code",
      "source": [
        "for num in numeros:\n",
        "  if num%2 == 0:\n",
        "    print(num)"
      ],
      "metadata": {
        "id": "DglKKmcSYyF8"
      },
      "execution_count": null,
      "outputs": []
    },
    {
      "cell_type": "code",
      "source": [
        "#criar uma nova lista chamada dobro\n",
        "#Dobro recebe os elementos da lista numeros, cada um multiplicado por 2\n",
        "dobro = []\n",
        "for num in numeros:\n",
        "  dobro.append(num * 2) \n",
        "dobro"
      ],
      "metadata": {
        "id": "WdYmg7FCwGJ6"
      },
      "execution_count": null,
      "outputs": []
    },
    {
      "cell_type": "code",
      "source": [
        "#Exercicio\n",
        "## Crie uma lista chamada notas, que receba 5 notas de alunos de uma turma"
      ],
      "metadata": {
        "id": "lzA45aiewypn"
      },
      "execution_count": null,
      "outputs": []
    },
    {
      "cell_type": "code",
      "source": [
        "jogos = ['Mario', 'Sonic', 'God of War', 'The Last of Us', 'Tetris']"
      ],
      "metadata": {
        "id": "sQ7oCfNItfW0"
      },
      "execution_count": null,
      "outputs": []
    },
    {
      "cell_type": "code",
      "source": [
        "#imprimir os elementos de uma lista\n",
        "for jogo in jogos:\n",
        "  print(jogo)\n"
      ],
      "metadata": {
        "id": "4aKJucNzuvF2"
      },
      "execution_count": null,
      "outputs": []
    },
    {
      "cell_type": "code",
      "source": [
        "# crie um código que insere novos títulos a lista jogos"
      ],
      "metadata": {
        "id": "Cr__PsZWE2ax"
      },
      "execution_count": null,
      "outputs": []
    },
    {
      "cell_type": "code",
      "source": [],
      "metadata": {
        "id": "akxY44NKprGq"
      },
      "execution_count": null,
      "outputs": []
    },
    {
      "cell_type": "markdown",
      "source": [
        "#Laço While"
      ],
      "metadata": {
        "id": "FHM7uecT2tpp"
      }
    },
    {
      "cell_type": "code",
      "source": [
        "#Criar um programa que lista os números de 1 a 10\n",
        "##Precisamos de um contador!\n",
        "cont = 0\n",
        "\n",
        "while (cont < 10):\n",
        "  print(cont +1)\n",
        "  cont+=1"
      ],
      "metadata": {
        "id": "yOyiQ_2rtsK9",
        "outputId": "c697c90b-0d17-4d00-95f9-5535d1844461",
        "colab": {
          "base_uri": "https://localhost:8080/"
        }
      },
      "execution_count": null,
      "outputs": [
        {
          "output_type": "stream",
          "name": "stdout",
          "text": [
            "1\n",
            "2\n",
            "3\n",
            "4\n",
            "5\n",
            "6\n",
            "7\n",
            "8\n",
            "9\n",
            "10\n"
          ]
        }
      ]
    },
    {
      "cell_type": "code",
      "source": [
        "#Pede ao usuário para inserir um número inteiro maior que 1\n",
        "#O programa deve imprimir todos os números até o número digitado.\n",
        "num = int(input('digite um número maior que 1: '))\n",
        "cont = 0\n",
        "while(cont <= num):\n",
        "  if(num > 1):\n",
        "    print(cont)\n",
        "  else:\n",
        "    print('Digite um número maior que 1.')\n",
        "  cont+=1\n"
      ],
      "metadata": {
        "id": "vkk2BDw2GJfU",
        "outputId": "fb87f687-5134-49d2-cd9a-2ec92457a650",
        "colab": {
          "base_uri": "https://localhost:8080/"
        }
      },
      "execution_count": null,
      "outputs": [
        {
          "output_type": "stream",
          "name": "stdout",
          "text": [
            "digite um número maior que 1: 6\n",
            "0\n",
            "1\n",
            "2\n",
            "3\n",
            "4\n",
            "5\n",
            "6\n"
          ]
        }
      ]
    },
    {
      "cell_type": "code",
      "source": [
        "#Pede ao usuário para inserir um número inteiro maior que 0\n",
        "#O programa deve imprimir a soma de todos os números até o número digitado."
      ],
      "metadata": {
        "id": "CsrLR2VVLgvb"
      },
      "execution_count": null,
      "outputs": []
    },
    {
      "cell_type": "code",
      "source": [
        "num = int(input('digite um número maior que 1: '))\n",
        "cont = 0\n",
        "listNumerica = []\n",
        "while(cont <= num):\n",
        "  listNumerica.append(cont)\n",
        "  cont +=1 \n",
        "print(sum(listNumerica))"
      ],
      "metadata": {
        "id": "xwjTDG1RLmlt",
        "outputId": "4bfcfa52-056c-4d9f-e59a-57de7b59ad54",
        "colab": {
          "base_uri": "https://localhost:8080/"
        }
      },
      "execution_count": null,
      "outputs": [
        {
          "output_type": "stream",
          "name": "stdout",
          "text": [
            "digite um número maior que 1: 5\n",
            "15\n"
          ]
        }
      ]
    },
    {
      "cell_type": "code",
      "source": [
        "num = int(input('digite um número maior que 1: '))\n",
        "cont = 0\n",
        "soma = 0\n",
        "while(cont <= num):\n",
        "  soma += cont\n",
        "  cont+=1\n",
        "print(soma)\n"
      ],
      "metadata": {
        "id": "Pk_a7ig0NZ8F"
      },
      "execution_count": null,
      "outputs": []
    },
    {
      "cell_type": "code",
      "source": [
        "#Modifique o código anterior para que imprima apenas os números pares do intervalo"
      ],
      "metadata": {
        "id": "oAVTJ2dB46yf"
      },
      "execution_count": null,
      "outputs": []
    },
    {
      "cell_type": "code",
      "source": [
        "#Retorna a soma de todos os números entre 1 e 100"
      ],
      "metadata": {
        "id": "J6EerHuW4fpd"
      },
      "execution_count": null,
      "outputs": []
    },
    {
      "cell_type": "code",
      "source": [
        "#Pede a senha do usuário. E dá 5 chances para o usuário\n",
        "#inserir a senha correta.\n",
        "senha = 'bola123'\n",
        "userPass = input('Digite sua senha: ')\n",
        "cont = 0\n",
        "while(cont < 3):\n",
        "  cont+=1\n",
        "  if(userPass == senha):    \n",
        "    break\n",
        "  else:\n",
        "    print('Senha errada')\n",
        "    userPass = input('Tente novamente')\n",
        "  \n",
        "if(cont == 3):\n",
        "  print('Sua senha foi bloqueada, otáro!')\n",
        "else:\n",
        "  print('Seja bem-vind@ ao meu sisteminha')"
      ],
      "metadata": {
        "id": "DeEWIdAm5FQJ",
        "outputId": "9eb9a0ec-c067-405b-95f2-cec9c62069bc",
        "colab": {
          "base_uri": "https://localhost:8080/"
        }
      },
      "execution_count": null,
      "outputs": [
        {
          "output_type": "stream",
          "name": "stdout",
          "text": [
            "Digite sua senha: 123\n",
            "Senha errada\n",
            "Tente novamente123\n",
            "Senha errada\n",
            "Tente novamente123\n",
            "Senha errada\n",
            "Tente novamente123\n",
            "Sua senha foi bloqueada, otáro!\n"
          ]
        }
      ]
    },
    {
      "cell_type": "code",
      "source": [
        "#Altere o código anterior e insira o seguinte critério:\n",
        "#Caso terminem as 5 chances de inserir a senha, o programa deve informar \"tentativas excedidas!\""
      ],
      "metadata": {
        "id": "8GZ4XcJP5O9H"
      },
      "execution_count": null,
      "outputs": []
    },
    {
      "cell_type": "code",
      "source": [
        "#Testar a entrada do usuário\n",
        "#isdigit() Verificar se o que foi digitado é um número ou não\n",
        "num = input('digite um número')\n",
        "num.isdigit()"
      ],
      "metadata": {
        "id": "kmst7Y8rOVMc"
      },
      "execution_count": null,
      "outputs": []
    },
    {
      "cell_type": "code",
      "source": [
        "#Solicitar que o usuário digite um nome. Caso ele digite um número, avise \"Entrada incorreta!\"\n",
        "nome = input('Digite o nome! ')\n",
        "if(nome.isdigit()):\n",
        "  print('Entrada incorreta!')\n",
        "else:\n",
        "  print(f'o nome {nome} foi inserido com sucesso')"
      ],
      "metadata": {
        "id": "Q6eZLC7SPVn6"
      },
      "execution_count": null,
      "outputs": []
    },
    {
      "cell_type": "code",
      "source": [
        "texto = input('digita ai')\n",
        "texto.isalpha()"
      ],
      "metadata": {
        "id": "1ZM_7O2iZXGW",
        "outputId": "0fa69905-c240-4dfd-9016-82e7696b0091",
        "colab": {
          "base_uri": "https://localhost:8080/"
        }
      },
      "execution_count": null,
      "outputs": [
        {
          "name": "stdout",
          "output_type": "stream",
          "text": [
            "digita aibem-vindo\n"
          ]
        },
        {
          "output_type": "execute_result",
          "data": {
            "text/plain": [
              "False"
            ]
          },
          "metadata": {},
          "execution_count": 48
        }
      ]
    },
    {
      "cell_type": "code",
      "source": [
        "#Solicitar que o usuário digite nomes de animais que serão inseridos em uma lista 'animais'.\n",
        "#O programa encerra quando um número for digitado. \n",
        "#ao final, exibe-se na tela a lista de animais.\n",
        "animais = []\n",
        "animal = input('Digite um nome de animal: ')\n",
        "\n",
        "while (animal.isdigit() == False):\n",
        "  animais.append(animal)\n",
        "  animal = input('Digite um nome de animal: ')\n",
        "\n",
        "animais"
      ],
      "metadata": {
        "id": "hifVOV77Qads"
      },
      "execution_count": null,
      "outputs": []
    },
    {
      "cell_type": "code",
      "source": [
        "#Solicitar que o usuário digite nomes de cidades e as armazene em uma lista. \n",
        "#O programa termina caso o usuário digite \"fim\"\n"
      ],
      "metadata": {
        "id": "XtKMs4NFTt_a"
      },
      "execution_count": null,
      "outputs": []
    },
    {
      "cell_type": "code",
      "source": [],
      "metadata": {
        "id": "L8rV-bjhp1hi"
      },
      "execution_count": null,
      "outputs": []
    },
    {
      "cell_type": "markdown",
      "source": [
        "#Lista de exercícios\n",
        "1. Escrever um algoritmo que lista todos os números ímpares que são múltiplos de três e que se encontram no conjunto dos números de 1 até 100.\n",
        "2. Escrever um algoritmo parecido com o anterior, mas que soma todos os múltiplos de 5 de 1 até 500.\n",
        "3. Crie um algoritmo que, dado um número informado pelo usuário, imprima a tabuada dele de 1 a 10. Use o formato de apresentação (considerando que o usuário informou o número 3):\n",
        "    - 3 x 1 = 3\n",
        "    - 3 x 2 = 6\n",
        "    - ...\n",
        "4. Desenvolva um programa que, lê o peso de 10 pessoas. Depois, calcula e mostra:\n",
        "  - O maior peso\n",
        "  - O menor peso\n",
        "5. Faça um programa que leia um número não determinado de valores. Depois, calcule e retorne na tela: \n",
        "  - A média aritmética de todos os números\n",
        "  - A quantidade de valores positivos\n",
        "  - A quantidade de valores negativos\n",
        "    * A condição de parada do laço é se o usuário digitar um caracter ou string.\n",
        "6. Escreva um algoritmo que lê uma quantidade desconhecida de números e contabilize quantos estão nos intervalos a seguir: [1-25], [26-50], [51-75], [76-100]. O input de dados deve parar quando for digitado o número 0.\n",
        "7. Faça um algoritmo que escreve os números ímpares entre 50 e 150\n",
        "8. Faça um algoritmo que permita ao usuário informar a idade de quantas pessoas ele desejar (para quando ele digitar um caractere ou string). Após isso o algoritmo deve informar a soma das pessoas maiores de idade e a média de idade das pessoas maiores de idade informadas.\n",
        "9. A sequência de Fibonacci é uma sucessão de números que, aparece em muitos fenômenos da natureza. Descrita no final do século 12 pelo italiano Leonardo Fibonacci, ela é infinita e começa com 0 e 1. Os números seguintes são sempre a soma dos dois números anteriores. Assim a sequência fica: {0, 1, 1, 2, 3, 5, 8, 13, 21, 34…}”. escreva um algoritmo que imprima na tela os n primeiros elementos da sequência de Fibonacci, onde n é informado pelo usuário."
      ],
      "metadata": {
        "id": "s2rr0qrNKtuv"
      }
    },
    {
      "cell_type": "code",
      "source": [
        "#Jogo adivinhe o número\n",
        "#Desenvolva um jogo de adivinhação que siga as seguintes regras:\n",
        "#1 - O jogo gera, aleatoriamente, um número secreto do tipo inteiro entre 0 e 100\n",
        "#2 - Solicita ao usuário que tente adivinhar o número entre 0 e 100.\n",
        "#3 - Um laço verifica se o número digitado é igual ao número secreto\n",
        "#4 - Se o número digitado for menor que o número secreto, o valor mínimo passa a ser o número digitado\n",
        "#5 - Se o número digitado for maior que o número secreto, o valor máximo passa a ser o número digitado\n",
        "#6 - se o jogador acertar, recebe uma mensagem de parabéns e o número de tentativas que foi necessária.\n",
        "###Para gerar inteiros aleatórios, importe from random import * e use a função randint()"
      ],
      "metadata": {
        "id": "ufzgetMJWdrp"
      },
      "execution_count": null,
      "outputs": []
    },
    {
      "cell_type": "code",
      "source": [
        "from random import randint\n",
        "\n",
        "#   A função randint gera aleatoriamente um número inteiro dentro de um intervalo dado pelo usuário.\n",
        "numero_secreto = randint(0, 100)\n",
        "\n",
        "# Define o valor mínimo e máximo para o input do usuário\n",
        "minimo = 0\n",
        "maximo = 100\n",
        "\n",
        "# Define o contador de tentativas\n",
        "tentativas = 0\n",
        "\n",
        "# Inicia o loop do jogo\n",
        "while True:\n",
        "    # Solicita ao usuário um palpite\n",
        "    palpite = int(input(f\"Tente adivinhar o número secreto entre {minimo} e {maximo}: \"))\n",
        "    \n",
        "    # Incrementa o contador de tentativas\n",
        "    tentativas += 1\n",
        "    \n",
        "    # Verifica se o palpite é igual ao número secreto\n",
        "    if palpite == numero_secreto:\n",
        "        print(f\"Parabéns! Você acertou o número secreto em {tentativas} tentativas!\")\n",
        "        break\n",
        "    # Verifica se o palpite é menor que o número secreto\n",
        "    elif palpite < numero_secreto:\n",
        "        print(\"O número é maior!\")\n",
        "        minimo = palpite + 1\n",
        "    # Verifica se o palpite é maior que o número secreto\n",
        "    else:\n",
        "        print(\"O número é menor!\")\n",
        "        maximo = palpite - 1\n",
        "\n"
      ],
      "metadata": {
        "colab": {
          "base_uri": "https://localhost:8080/"
        },
        "id": "8W3k7ttukGCy",
        "outputId": "fb27fffd-7215-4d9d-8a4c-bdc6bbb2ff5f"
      },
      "execution_count": null,
      "outputs": [
        {
          "output_type": "stream",
          "name": "stdout",
          "text": [
            "Tente adivinhar o número secreto entre 0 e 100: 99\n",
            "O número é menor!\n",
            "Tente adivinhar o número secreto entre 0 e 98: 80\n",
            "O número é menor!\n",
            "Tente adivinhar o número secreto entre 0 e 79: 50\n",
            "O número é menor!\n",
            "Tente adivinhar o número secreto entre 0 e 49: 30\n",
            "O número é maior!\n",
            "Tente adivinhar o número secreto entre 31 e 49: 40\n",
            "O número é maior!\n",
            "Tente adivinhar o número secreto entre 41 e 49: 45\n",
            "O número é menor!\n",
            "Tente adivinhar o número secreto entre 41 e 44: 42\n",
            "Parabéns! Você acertou o número secreto em 7 tentativas!\n"
          ]
        }
      ]
    },
    {
      "cell_type": "code",
      "source": [
        "#Declaração da função\n",
        "def my_first_funcion():\n",
        "  print('minha primeira função')"
      ],
      "metadata": {
        "id": "l_cSfOyIHh--"
      },
      "execution_count": null,
      "outputs": []
    },
    {
      "cell_type": "code",
      "source": [
        "#chamando uma função\n",
        "my_first_funcion()"
      ],
      "metadata": {
        "colab": {
          "base_uri": "https://localhost:8080/"
        },
        "id": "e06ylgpvIFn2",
        "outputId": "f6aeb185-be93-4173-df1a-fd805a94ede7"
      },
      "execution_count": null,
      "outputs": [
        {
          "output_type": "stream",
          "name": "stdout",
          "text": [
            "minha primeira função\n"
          ]
        }
      ]
    },
    {
      "cell_type": "code",
      "source": [
        "def pronomeTratam(pronome):\n",
        "  print(pronome, \"Gabriel\")"
      ],
      "metadata": {
        "id": "HqcvMVJmJG0o"
      },
      "execution_count": null,
      "outputs": []
    },
    {
      "cell_type": "code",
      "source": [
        "pronomeTratam('Doutor')\n",
        "pronomeTratam('Ilmo')\n",
        "pronomeTratam('Seu')"
      ],
      "metadata": {
        "colab": {
          "base_uri": "https://localhost:8080/"
        },
        "id": "A_S7WnX5JTKn",
        "outputId": "b99fab5c-4e4c-4661-c585-59196e4f3ce4"
      },
      "execution_count": null,
      "outputs": [
        {
          "output_type": "stream",
          "name": "stdout",
          "text": [
            "Doutor Gabriel\n",
            "Ilmo Gabriel\n",
            "Seu Gabriel\n"
          ]
        }
      ]
    },
    {
      "cell_type": "code",
      "source": [
        "def trataNome(pronome, nome):\n",
        "  print(pronome, nome)"
      ],
      "metadata": {
        "id": "2L0fyMRlJx_y"
      },
      "execution_count": null,
      "outputs": []
    },
    {
      "cell_type": "code",
      "source": [
        "trataNome('Seu.', 'Gabriel')"
      ],
      "metadata": {
        "colab": {
          "base_uri": "https://localhost:8080/"
        },
        "id": "Q5CQXw6HKMky",
        "outputId": "62bf3604-d716-4c95-f497-0b6066209b63"
      },
      "execution_count": null,
      "outputs": [
        {
          "output_type": "stream",
          "name": "stdout",
          "text": [
            "Seu. Gabriel\n"
          ]
        }
      ]
    },
    {
      "cell_type": "code",
      "source": [
        "#Função que recebe como parâmetro Nome e Ano de nascimento\n",
        "#Calcula a idade do sujeito e retorna algo como:\n",
        "#Gabriel tem 28 anos"
      ],
      "metadata": {
        "id": "2rKH6Kd_Mst5"
      },
      "execution_count": null,
      "outputs": []
    },
    {
      "cell_type": "code",
      "source": [
        "def nomeEAno(nome, ano):\n",
        "  idade = 2023 - ano\n",
        "  print(nome, idade, 'anos')"
      ],
      "metadata": {
        "id": "y4-5NdQuK8vn"
      },
      "execution_count": null,
      "outputs": []
    },
    {
      "cell_type": "code",
      "source": [
        "nomeEAno('Gabriel', 1995)"
      ],
      "metadata": {
        "colab": {
          "base_uri": "https://localhost:8080/"
        },
        "id": "xEAgjCxvNH_t",
        "outputId": "32e3b260-b742-4652-967f-6bc506c3524e"
      },
      "execution_count": null,
      "outputs": [
        {
          "output_type": "stream",
          "name": "stdout",
          "text": [
            "Gabriel 28 anos\n"
          ]
        }
      ]
    },
    {
      "cell_type": "code",
      "source": [
        "#Meu Jeito\n",
        "def idade(Nome, ano_nascimento):\n",
        "  idade=2023 -ano_nascimento\n",
        "  return f\"{Nome}tem{idade}anos\""
      ],
      "metadata": {
        "id": "vARl9UGiNogF"
      },
      "execution_count": null,
      "outputs": []
    },
    {
      "cell_type": "code",
      "source": [
        "print(idade(\"Gabriel\", 1995))"
      ],
      "metadata": {
        "colab": {
          "base_uri": "https://localhost:8080/"
        },
        "id": "7BLPZjYaOUv2",
        "outputId": "65ccae90-9787-4b94-c227-b9721e515d0f"
      },
      "execution_count": null,
      "outputs": [
        {
          "output_type": "stream",
          "name": "stdout",
          "text": [
            "Gabrieltem28anos\n"
          ]
        }
      ]
    },
    {
      "cell_type": "code",
      "source": [
        "#Função que recebe Altura e Peso e retorna o IMC:\n",
        "#Fórmula IMC peso/altura**2"
      ],
      "metadata": {
        "id": "IHQjfYovO5qk"
      },
      "execution_count": null,
      "outputs": []
    },
    {
      "cell_type": "code",
      "source": [
        "def calcular_imc(altura, peso):\n",
        "  print(peso / altura**2)"
      ],
      "metadata": {
        "id": "SsAFREZNPG8s"
      },
      "execution_count": null,
      "outputs": []
    },
    {
      "cell_type": "code",
      "source": [
        "calcular_imc(1.68, 54)"
      ],
      "metadata": {
        "colab": {
          "base_uri": "https://localhost:8080/"
        },
        "id": "CmxXVr8WPyxV",
        "outputId": "be3cde98-fccc-4449-9125-bf61a78ab95e"
      },
      "execution_count": null,
      "outputs": [
        {
          "output_type": "execute_result",
          "data": {
            "text/plain": [
              "19.13265306122449"
            ]
          },
          "metadata": {},
          "execution_count": 32
        }
      ]
    },
    {
      "cell_type": "code",
      "source": [
        "def calcular_imc(altura, peso):\n",
        "  return peso / altura**2"
      ],
      "metadata": {
        "id": "mpR_CRQwQuw0"
      },
      "execution_count": null,
      "outputs": []
    },
    {
      "cell_type": "code",
      "source": [
        "calcular_imc(1.68, 54) > 19"
      ],
      "metadata": {
        "colab": {
          "base_uri": "https://localhost:8080/"
        },
        "id": "jQG38RXiQzs-",
        "outputId": "88d21db5-5a24-4f3d-c33f-c40b1f05936b"
      },
      "execution_count": null,
      "outputs": [
        {
          "output_type": "execute_result",
          "data": {
            "text/plain": [
              "True"
            ]
          },
          "metadata": {},
          "execution_count": 35
        }
      ]
    },
    {
      "cell_type": "code",
      "source": [
        "def calcular_juros_simples(valor_emprestimo,tempo):\n",
        "  taxa_juros=0.025\n",
        "  juros_simples = valor_emprestimo * taxa_juros * tempo\n",
        "  return juros_simples"
      ],
      "metadata": {
        "id": "ZSwUKLnba9pB"
      },
      "execution_count": null,
      "outputs": []
    },
    {
      "cell_type": "code",
      "source": [
        "print(calcular_juros_simples(1000, 5))"
      ],
      "metadata": {
        "id": "tfylZON5cEVR",
        "outputId": "d1956470-8d7e-404b-ae9a-12f3d55dc53f",
        "colab": {
          "base_uri": "https://localhost:8080/"
        }
      },
      "execution_count": null,
      "outputs": [
        {
          "output_type": "stream",
          "name": "stdout",
          "text": [
            "125.0\n"
          ]
        }
      ]
    }
  ]
}